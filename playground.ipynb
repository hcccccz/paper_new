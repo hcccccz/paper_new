{
 "cells": [
  {
   "cell_type": "code",
   "execution_count": 57,
   "metadata": {},
   "outputs": [],
   "source": [
    "import pandas as pd\n",
    "import numpy as np\n",
    "from datetime import datetime\n",
    "import MeCab\n",
    "import ipadic\n",
    "import os"
   ]
  },
  {
   "cell_type": "code",
   "execution_count": 22,
   "metadata": {},
   "outputs": [],
   "source": [
    "class Feature_extractor:\n",
    "\n",
    "    def __init__(self, data_path):\n",
    "        self.data = pd.read_csv(data_path)\n",
    "\n",
    "        self.save_folder = \"features\"\n",
    "        self.features = {}\n",
    "\n",
    "    def date_feature(self):\n",
    "        dates = self.data[\"レビュー登録日時\"].to_numpy()\n",
    "        data_format = \"%Y-%m-%d %H:%M\"\n",
    "        end_day = datetime.strptime(\"2019-12-31 23:59\",data_format)\n",
    "        self.features[\"df\"] = [(end_day - datetime.strptime(date,data_format)).days for date in dates]\n",
    "\n",
    "    def is_title(self):\n",
    "        self.features[\"it\"] = self.data[\"レビュータイトル\"].isnull().to_numpy().astype(int)\n",
    "\n",
    "    def is_mokuteki(self):\n",
    "        self.features[\"im\"] = self.data[\"目的\"].isnull().to_numpy().astype(int)\n",
    "\n",
    "    def is_ti(self):\n",
    "        self.features[\"itsu\"] = self.data[\"使い道\"].isnull().to_numpy().astype(int)\n",
    "\n",
    "    def is_hin(self):\n",
    "        self.features[\"ih\"] = self.data[\"頻度\"].isnull().to_numpy().astype(int)\n",
    "\n",
    "    def title_wc(self):\n",
    "        self.tc = []\n",
    "        wakati = MeCab.Tagger(\"-Owakati\")\n",
    "        file_name = \"title_count.txt\"\n",
    "        if file_name not in os.listdir(self.save_folder):\n",
    "            review = self.data[\"レビュータイトル\"].to_numpy()\n",
    "            for line in tqdm(review):\n",
    "                if line is np.nan:\n",
    "                    out = 0\n",
    "                else:\n",
    "                    out = len(wakati.parse(line).split())\n",
    "                self.tc.append(out)\n",
    "            with open(os.path.join(self.save_folder,file_name), \"w\") as file:\n",
    "                for line in self.tc:\n",
    "                    file.write(str(line))\n",
    "                    file.write(\"\\n\")\n",
    "        else:\n",
    "            with open(os.path.join(self.save_folder,file_name), \"r\") as file:\n",
    "                self.tc = [int(line.replace(\"\\n\", \"\")) for line in file.readlines()]\n",
    "\n",
    "        self.features[\"tc\"] = self.tc\n",
    "\n",
    "    def word_count(self):\n",
    "        self.wc = []\n",
    "        wakati = MeCab.Tagger(\"-Owakati\")\n",
    "        file_name = \"word_count.txt\"\n",
    "        if file_name not in os.listdir(self.save_folder):\n",
    "            with open(os.path.join(self.save_folder,file_name), \"w\") as file:\n",
    "                review = self.data[\"レビュー内容\"].to_numpy()\n",
    "                for line in tqdm(review):\n",
    "                    out = len(wakati.parse(line).split())\n",
    "                    file.write(str(out))\n",
    "                    file.write(\"\\n\")\n",
    "                    self.wc.append(out)\n",
    "        else:\n",
    "            with open(os.path.join(self.save_folder,file_name), \"r\") as file:\n",
    "                self.wc = [int(line.replace(\"\\n\", \"\")) for line in file.readlines()]\n",
    "\n",
    "        self.features[\"wc\"] = self.wc\n",
    "\n",
    "    def score(self):\n",
    "        self.features['score'] = self.data[\"評価ポイント\"].to_numpy()\n",
    "        # self.features['score'] = s(self.data['評価ポイント'] == 1).astype(int).to_numpy()\n",
    "    def encode_mokuteki(self):\n",
    "        return pd.get_dummies(self.data[\"目的\"]).astype(int)\n",
    "\n",
    "    def encode_hindo(self):\n",
    "        return pd.get_dummies(self.data[\"頻度\"]).astype(int)\n",
    "\n",
    "    def encode_tsu(self):\n",
    "        return pd.get_dummies(self.data[\"使い道\"]).astype(int)\n",
    "\n",
    "    def encode_denpou(self):\n",
    "        # cate = self.data[\"店舗名\"].to_frame()\n",
    "        # le = LabelEncoder()\n",
    "        # a = le.fit_transform(cate).flatten()\n",
    "        # return pd.DataFrame({\"denpou\":a})\n",
    "        self.features['denpo'] = self.data['店舗名'].map(self.data['店舗名'].value_counts()).to_numpy()\n",
    "\n",
    "    def encode_goods(self):\n",
    "        self.features['goods'] = self.data['商品名'].map(self.data['商品名'].value_counts()).to_numpy()\n",
    "\n",
    "    def encode_users(self):\n",
    "        self.features['user'] = self.data['投稿者ID'].map(self.data['投稿者ID'].value_counts()).to_numpy()\n",
    "\n",
    "    def encode_genre(self):\n",
    "        self.features['商品ジャンルID'] = self.data['商品ジャンルID'].map(self.data['商品ジャンルID'].value_counts()).to_numpy()\n",
    "\n",
    "    def get_y(self,cut_off:int):\n",
    "        out = self.data[\"参考になった数\"].to_numpy()\n",
    "        return np.where(out > cut_off, 1, 0)\n",
    "\n",
    "    def to_frame(self, include_y=False):\n",
    "        # self.date_feature()\n",
    "        self.word_count() #单词数\n",
    "        self.title_wc() #标题单词数\n",
    "        self.is_title() #是否有标题\n",
    "        self.is_mokuteki() #目的\n",
    "        self.is_ti() #使い道\n",
    "        self.is_hin() #頻度\n",
    "        self.score() #评论分数\n",
    "        self.encode_goods() #商品名\n",
    "        self.encode_users() #用户\n",
    "        self.encode_genre() #类别\n",
    "        self.encode_denpou() #店铺\n",
    "        encoded_hindo = self.encode_hindo() #使用频度\n",
    "        encoded_mokuteki = self.encode_mokuteki() #使用目的\n",
    "        encoded_tsu = self.encode_tsu() #使用方法\n",
    "\n",
    "        if include_y:\n",
    "            self.features['y'] = self.get_y(cut_off=1)\n",
    "\n",
    "        data = pd.DataFrame(self.features)\n",
    "        data = pd.concat([data, encoded_mokuteki,encoded_hindo, encoded_tsu, encoded_tsu], axis = 1)\n",
    "        return data"
   ]
  },
  {
   "cell_type": "code",
   "execution_count": 23,
   "metadata": {},
   "outputs": [],
   "source": [
    "path = \"/home/hc/[NII-IDR] 楽天市場データ/review/sample/sample_from_raw.csv\"\n",
    "extractor = Feature_extractor(path)\n",
    "X = extractor.to_frame(include_y=True)"
   ]
  },
  {
   "cell_type": "code",
   "execution_count": null,
   "metadata": {},
   "outputs": [],
   "source": [
    "def hinshi_dis(review):\n",
    "    pass"
   ]
  },
  {
   "cell_type": "code",
   "execution_count": 58,
   "metadata": {},
   "outputs": [],
   "source": [
    "CHASEN_ARGS = r' -F \"%m\\t%f[7]\\t%f[6]\\t%F-[0,1,2,3]\\t%f[4]\\t%f[5]\\n\"'\n",
    "CHASEN_ARGS += r' -U \"%m\\t%m\\t%m\\t%F-[0,1,2,3]\\t\\t\\n\"'\n",
    "wakati = MeCab.Tagger(ipadic.MECAB_ARGS + CHASEN_ARGS)"
   ]
  },
  {
   "cell_type": "code",
   "execution_count": 59,
   "metadata": {},
   "outputs": [
    {
     "data": {
      "text/plain": [
       "'プリンタ\\tプリンタ\\tプリンタ\\t名詞-一般\\t\\t\\nを\\tヲ\\tを\\t助詞-格助詞-一般\\t\\t\\n購入\\tコウニュウ\\t購入\\t名詞-サ変接続\\t\\t\\nし\\tシ\\tする\\t動詞-自立\\tサ変・スル\\t連用形\\nた\\tタ\\tた\\t助動詞\\t特殊・タ\\t基本形\\nの\\tノ\\tの\\t名詞-非自立-一般\\t\\t\\nが\\tガ\\tが\\t助詞-格助詞-一般\\t\\t\\n2\\t2\\t2\\t名詞-数\\t\\t\\n月\\tツキ\\t月\\t名詞-一般\\t\\t\\n。\\t。\\t。\\t記号-句点\\t\\t\\nエプソン\\tエプソン\\tエプソン\\t名詞-固有名詞-組織\\t\\t\\nの\\tノ\\tの\\t助詞-連体化\\t\\t\\nPX\\tPX\\tPX\\t名詞-一般\\t\\t\\n-\\t-\\t-\\t記号-一般\\t\\t\\nM\\tM\\tM\\t名詞-一般\\t\\t\\n5041\\t5041\\t5041\\t名詞-数\\t\\t\\nF\\tF\\tF\\t名詞-一般\\t\\t\\nは\\tハ\\tは\\t助詞-係助詞\\t\\t\\nとにかく\\tトニカク\\tとにかく\\t副詞-一般\\t\\t\\n紙\\tカミ\\t紙\\t名詞-一般\\t\\t\\n詰まり\\tツマリ\\t詰まり\\t名詞-一般\\t\\t\\nも\\tモ\\tも\\t助詞-係助詞\\t\\t\\nインク\\tインク\\tインク\\t名詞-一般\\t\\t\\nの\\tノ\\tの\\t助詞-連体化\\t\\t\\nかすれ\\tカスレ\\tかすれる\\t動詞-自立\\t一段\\t連用形\\nも\\tモ\\tも\\t助詞-係助詞\\t\\t\\nひどく\\tヒドク\\tひどい\\t形容詞-自立\\t形容詞・アウオ段\\t連用テ接続\\nて\\tテ\\tて\\t助詞-接続助詞\\t\\t\\n、\\t、\\t、\\t記号-読点\\t\\t\\n互換\\tゴカン\\t互換\\t名詞-一般\\t\\t\\n性\\tセイ\\t性\\t名詞-接尾-一般\\t\\t\\nインク\\tインク\\tインク\\t名詞-一般\\t\\t\\nも\\tモ\\tも\\t助詞-係助詞\\t\\t\\n悪かっ\\tワルカッ\\t悪い\\t形容詞-自立\\t形容詞・アウオ段\\t連用タ接続\\nた\\tタ\\tた\\t助動詞\\t特殊・タ\\t基本形\\nの\\tノ\\tの\\t名詞-非自立-一般\\t\\t\\nか\\tカ\\tか\\t助詞-副助詞／並立助詞／終助詞\\t\\t\\n、\\t、\\t、\\t記号-読点\\t\\t\\n最後\\tサイゴ\\t最後\\t名詞-一般\\t\\t\\nは\\tハ\\tは\\t助詞-係助詞\\t\\t\\nいくら\\tイクラ\\tいくら\\t副詞-一般\\t\\t\\nヘッダ\\tヘッダ\\tヘッダ\\t名詞-一般\\t\\t\\nクリーニング\\tクリーニング\\tクリーニング\\t名詞-サ変接続\\t\\t\\nし\\tシ\\tする\\t動詞-自立\\tサ変・スル\\t連用形\\nて\\tテ\\tて\\t助詞-接続助詞\\t\\t\\nも\\tモ\\tも\\t助詞-係助詞\\t\\t\\n印字\\tインジ\\t印字\\t名詞-サ変接続\\t\\t\\nでき\\tデキ\\tできる\\t動詞-自立\\t一段\\t未然形\\nなく\\tナク\\tない\\t助動詞\\t特殊・ナイ\\t連用テ接続\\nなっ\\tナッ\\tなる\\t動詞-自立\\t五段・ラ行\\t連用タ接続\\nて\\tテ\\tて\\t助詞-接続助詞\\t\\t\\n、\\t、\\t、\\t記号-読点\\t\\t\\nあきらめ\\tアキラメ\\tあきらめる\\t動詞-自立\\t一段\\t連用形\\nまし\\tマシ\\tます\\t助動詞\\t特殊・マス\\t連用形\\nた\\tタ\\tた\\t助動詞\\t特殊・タ\\t基本形\\n。\\t。\\t。\\t記号-句点\\t\\t\\n今回\\tコンカイ\\t今回\\t名詞-副詞可能\\t\\t\\nは\\tハ\\tは\\t助詞-係助詞\\t\\t\\n、\\t、\\t、\\t記号-読点\\t\\t\\nしばらく\\tシバラク\\tしばらく\\t副詞-助詞類接続\\t\\t\\n純正\\tジュンセイ\\t純正\\t名詞-形容動詞語幹\\t\\t\\n品\\tヒン\\t品\\t名詞-接尾-一般\\t\\t\\nで\\tデ\\tで\\t助詞-格助詞-一般\\t\\t\\n行く\\tイク\\t行く\\t動詞-自立\\t五段・カ行促音便\\t基本形\\nこと\\tコト\\tこと\\t名詞-非自立-一般\\t\\t\\nに\\tニ\\tに\\t助詞-格助詞-一般\\t\\t\\nし\\tシ\\tする\\t動詞-自立\\tサ変・スル\\t連用形\\nまし\\tマシ\\tます\\t助動詞\\t特殊・マス\\t連用形\\nた\\tタ\\tた\\t助動詞\\t特殊・タ\\t基本形\\n。\\t。\\t。\\t記号-句点\\t\\t\\n今\\tイマ\\t今\\t名詞-副詞可能\\t\\t\\nの\\tノ\\tの\\t助詞-連体化\\t\\t\\nところ\\tトコロ\\tところ\\t名詞-非自立-副詞可能\\t\\t\\n問題\\tモンダイ\\t問題\\t名詞-ナイ形容詞語幹\\t\\t\\nあり\\tアリ\\tある\\t動詞-自立\\t五段・ラ行\\t連用形\\nませ\\tマセ\\tます\\t助動詞\\t特殊・マス\\t未然形\\nん\\tン\\tん\\t助動詞\\t不変化型\\t基本形\\n。\\t。\\t。\\t記号-句点\\t\\t\\n互換\\tゴカン\\t互換\\t名詞-一般\\t\\t\\n品\\tヒン\\t品\\t名詞-接尾-一般\\t\\t\\nと\\tト\\tと\\t助詞-並立助詞\\t\\t\\n価格\\tカカク\\t価格\\t名詞-一般\\t\\t\\nを\\tヲ\\tを\\t助詞-格助詞-一般\\t\\t\\n企画\\tキカク\\t企画\\t名詞-サ変接続\\t\\t\\nし\\tシ\\tする\\t動詞-自立\\tサ変・スル\\t連用形\\nて\\tテ\\tて\\t助詞-接続助詞\\t\\t\\nも\\tモ\\tも\\t助詞-係助詞\\t\\t\\n3\\t3\\t3\\t名詞-数\\t\\t\\n倍\\tバイ\\t倍\\t名詞-接尾-助数詞\\t\\t\\nは\\tハ\\tは\\t助詞-係助詞\\t\\t\\nし\\tシ\\tする\\t動詞-自立\\tサ変・スル\\t未然形\\nない\\tナイ\\tない\\t助動詞\\t特殊・ナイ\\t基本形\\nくらい\\tクライ\\tくらい\\t助詞-副助詞\\t\\t\\nだ\\tダ\\tだ\\t助動詞\\t特殊・ダ\\t基本形\\nから\\tカラ\\tから\\t助詞-接続助詞\\t\\t\\n、\\t、\\t、\\t記号-読点\\t\\t\\n比較的\\tヒカクテキ\\t比較的\\t副詞-一般\\t\\t\\n純正\\tジュンセイ\\t純正\\t名詞-形容動詞語幹\\t\\t\\n品\\tヒン\\t品\\t名詞-接尾-一般\\t\\t\\nで\\tデ\\tで\\t助詞-格助詞-一般\\t\\t\\nも\\tモ\\tも\\t助詞-係助詞\\t\\t\\n割高\\tワリダカ\\t割高\\t名詞-形容動詞語幹\\t\\t\\n感\\tカン\\t感\\t名詞-接尾-一般\\t\\t\\nは\\tハ\\tは\\t助詞-係助詞\\t\\t\\n小さい\\tチイサイ\\t小さい\\t形容詞-自立\\t形容詞・アウオ段\\t基本形\\n方\\tホウ\\t方\\t名詞-非自立-一般\\t\\t\\nか\\tカ\\tか\\t助詞-副助詞／並立助詞／終助詞\\t\\t\\n。\\t。\\t。\\t記号-句点\\t\\t\\nただし\\tタダシ\\tただし\\t接続詞\\t\\t\\n、\\t、\\t、\\t記号-読点\\t\\t\\n現在\\tゲンザイ\\t現在\\t名詞-副詞可能\\t\\t\\nの\\tノ\\tの\\t助詞-連体化\\t\\t\\n価格\\tカカク\\t価格\\t名詞-一般\\t\\t\\nは\\tハ\\tは\\t助詞-係助詞\\t\\t\\nコジマ\\tコジマ\\tコジマ\\t名詞-固有名詞-組織\\t\\t\\nや\\tヤ\\tや\\t助詞-並立助詞\\t\\t\\nエディオン\\tエディオン\\tエディオン\\t名詞-一般\\t\\t\\nが\\tガ\\tが\\t助詞-格助詞-一般\\t\\t\\n下げ\\tサゲ\\t下げる\\t動詞-自立\\t一段\\t連用形\\nて\\tテ\\tて\\t助詞-接続助詞\\t\\t\\nき\\tキ\\tくる\\t動詞-非自立\\tカ変・クル\\t連用形\\nて\\tテ\\tて\\t助詞-接続助詞\\t\\t\\nいる\\tイル\\tいる\\t動詞-非自立\\t一段\\t基本形\\nので\\tノデ\\tので\\t助詞-接続助詞\\t\\t\\n、\\t、\\t、\\t記号-読点\\t\\t\\n同\\tドウ\\t同\\t接頭詞-名詞接続\\t\\t\\n程度\\tテイド\\t程度\\t名詞-一般\\t\\t\\nに\\tニ\\tに\\t助詞-格助詞-一般\\t\\t\\nは\\tハ\\tは\\t助詞-係助詞\\t\\t\\nし\\tシ\\tする\\t動詞-自立\\tサ変・スル\\t連用形\\nて\\tテ\\tて\\t助詞-接続助詞\\t\\t\\nほしい\\tホシイ\\tほしい\\t形容詞-非自立\\t形容詞・イ段\\t基本形\\nか\\tカ\\tか\\t助詞-副助詞／並立助詞／終助詞\\t\\t\\nな\\tナ\\tな\\t助詞-終助詞\\t\\t\\n。\\t。\\t。\\t記号-句点\\t\\t\\nEOS\\n'"
      ]
     },
     "execution_count": 59,
     "metadata": {},
     "output_type": "execute_result"
    }
   ],
   "source": [
    "text = extractor.data['レビュー内容'][0]\n",
    "wakati.parse(text)"
   ]
  }
 ],
 "metadata": {
  "kernelspec": {
   "display_name": "tensor",
   "language": "python",
   "name": "python3"
  },
  "language_info": {
   "codemirror_mode": {
    "name": "ipython",
    "version": 3
   },
   "file_extension": ".py",
   "mimetype": "text/x-python",
   "name": "python",
   "nbconvert_exporter": "python",
   "pygments_lexer": "ipython3",
   "version": "3.9.20"
  }
 },
 "nbformat": 4,
 "nbformat_minor": 2
}
