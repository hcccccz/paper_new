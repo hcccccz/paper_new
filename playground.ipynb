{
 "cells": [
  {
   "cell_type": "code",
   "execution_count": 1,
   "metadata": {},
   "outputs": [],
   "source": [
    "import pandas as pd\n",
    "import numpy as np\n",
    "from datetime import datetime\n",
    "import MeCab\n",
    "import ipadic\n",
    "import os\n",
    "from tqdm import tqdm\n",
    "import seaborn as sns\n",
    "import matplotlib.pyplot as plt\n"
   ]
  },
  {
   "cell_type": "markdown",
   "metadata": {},
   "source": [
    "### Class"
   ]
  },
  {
   "cell_type": "code",
   "execution_count": 2,
   "metadata": {},
   "outputs": [],
   "source": [
    "def hinshi_dist(text):\n",
    "    word_type = [\"その他\",\"動詞\",\"副詞\",\"名詞\",\"助動詞\",\"記号\",\"フィラー\",\"接続詞\",\"助詞\",\"形容詞\",\"連体詞\",\"感動詞\",\"接頭詞\"]\n",
    "    type_dic = {i:0for i in word_type}\n",
    "    length = 0\n",
    "    CHASEN_ARGS = r' -F \"%m\\t%f[7]\\t%f[6]\\t%F-[0,1,2,3]\\t%f[4]\\t%f[5]\\n\"'\n",
    "    CHASEN_ARGS += r' -U \"%m\\t%m\\t%m\\t%F-[0,1,2,3]\\t\\t\\n\"'\n",
    "    wakati = MeCab.Tagger(ipadic.MECAB_ARGS + CHASEN_ARGS)\n",
    "    wakati_text = wakati.parse(text).split(\"\\n\")\n",
    "    for line in wakati_text:\n",
    "        tokens = line.split('\\t')\n",
    "        if tokens[0] != \"\" and tokens[0] != \"EOS\":\n",
    "            if \"-\" in tokens[3]:\n",
    "                result = tokens[3].split(\"-\")[0]\n",
    "            else:\n",
    "                result = tokens[3]\n",
    "            type_dic[result] += 1\n",
    "            length += 1\n",
    "    for key in type_dic.keys():\n",
    "        type_dic[key] = type_dic[key]/length\n",
    "    return type_dic\n",
    "\n",
    "\n",
    "\n",
    "\n",
    "\n",
    "\n",
    "class Feature_extractor:\n",
    "\n",
    "\n",
    "    def __init__(self, data_path):\n",
    "        self.data = pd.read_csv(data_path)\n",
    "\n",
    "        self.save_folder = \"features\"\n",
    "        self.features = {}\n",
    "\n",
    "    def date_feature(self):\n",
    "        dates = self.data[\"レビュー登録日時\"].to_numpy()\n",
    "        data_format = \"%Y-%m-%d %H:%M\"\n",
    "        end_day = datetime.strptime(\"2019-12-31 23:59\",data_format)\n",
    "        self.features[\"df\"] = [(end_day - datetime.strptime(date,data_format)).days for date in dates]\n",
    "\n",
    "    def is_title(self):\n",
    "        self.features[\"it\"] = self.data[\"レビュータイトル\"].isnull().to_numpy().astype(int)\n",
    "\n",
    "    def is_mokuteki(self):\n",
    "        self.features[\"im\"] = self.data[\"目的\"].isnull().to_numpy().astype(int)\n",
    "\n",
    "    def is_ti(self):\n",
    "        self.features[\"itsu\"] = self.data[\"使い道\"].isnull().to_numpy().astype(int)\n",
    "\n",
    "    def is_hin(self):\n",
    "        self.features[\"ih\"] = self.data[\"頻度\"].isnull().to_numpy().astype(int)\n",
    "\n",
    "    def title_wc(self):\n",
    "        self.tc = []\n",
    "        wakati = MeCab.Tagger(\"-Owakati\")\n",
    "        file_name = \"title_count.txt\"\n",
    "        if file_name not in os.listdir(self.save_folder):\n",
    "            review = self.data[\"レビュータイトル\"].to_numpy()\n",
    "            for line in tqdm(review):\n",
    "                if line is np.nan:\n",
    "                    out = 0\n",
    "                else:\n",
    "                    out = len(wakati.parse(line).split())\n",
    "                self.tc.append(out)\n",
    "            with open(os.path.join(self.save_folder,file_name), \"w\") as file:\n",
    "                for line in self.tc:\n",
    "                    file.write(str(line))\n",
    "                    file.write(\"\\n\")\n",
    "        else:\n",
    "            with open(os.path.join(self.save_folder,file_name), \"r\") as file:\n",
    "                self.tc = [int(line.replace(\"\\n\", \"\")) for line in file.readlines()]\n",
    "\n",
    "        self.features[\"tc\"] = self.tc\n",
    "\n",
    "    def word_count(self):\n",
    "        self.wc = []\n",
    "        wakati = MeCab.Tagger(\"-Owakati\")\n",
    "        file_name = \"word_count.txt\"\n",
    "        if file_name not in os.listdir(self.save_folder):\n",
    "            with open(os.path.join(self.save_folder,file_name), \"w\") as file:\n",
    "                review = self.data[\"レビュー内容\"].to_numpy()\n",
    "                for line in tqdm(review):\n",
    "                    out = len(wakati.parse(line).split())\n",
    "                    file.write(str(out))\n",
    "                    file.write(\"\\n\")\n",
    "                    self.wc.append(out)\n",
    "        else:\n",
    "            with open(os.path.join(self.save_folder,file_name), \"r\") as file:\n",
    "                self.wc = [int(line.replace(\"\\n\", \"\")) for line in file.readlines()]\n",
    "\n",
    "        self.features[\"wc\"] = self.wc\n",
    "\n",
    "    def score(self):\n",
    "        self.features['score'] = self.data[\"評価ポイント\"].to_numpy()\n",
    "        # self.features['score'] = s(self.data['評価ポイント'] == 1).astype(int).to_numpy()\n",
    "    def encode_mokuteki(self):\n",
    "        return pd.get_dummies(self.data[\"目的\"]).astype(int)\n",
    "\n",
    "    def encode_hindo(self):\n",
    "        return pd.get_dummies(self.data[\"頻度\"]).astype(int)\n",
    "\n",
    "    def encode_tsu(self):\n",
    "        return pd.get_dummies(self.data[\"使い道\"]).astype(int)\n",
    "\n",
    "    def encode_denpou(self):\n",
    "        # cate = self.data[\"店舗名\"].to_frame()\n",
    "        # le = LabelEncoder()\n",
    "        # a = le.fit_transform(cate).flatten()\n",
    "        # return pd.DataFrame({\"denpou\":a})\n",
    "        self.features['denpo'] = self.data['店舗名'].map(self.data['店舗名'].value_counts()).to_numpy()\n",
    "\n",
    "    def encode_goods(self):\n",
    "        self.features['goods'] = self.data['商品名'].map(self.data['商品名'].value_counts()).to_numpy()\n",
    "\n",
    "    def encode_users(self):\n",
    "        self.features['user'] = self.data['投稿者ID'].map(self.data['投稿者ID'].value_counts()).to_numpy()\n",
    "\n",
    "    def encode_genre(self):\n",
    "        self.features['商品ジャンルID'] = self.data['商品ジャンルID'].map(self.data['商品ジャンルID'].value_counts()).to_numpy()\n",
    "\n",
    "    def encode_hinshi(self): #词性\n",
    "        word_type = [\"その他\",\"動詞\",\"副詞\",\"名詞\",\"助動詞\",\"記号\",\"フィラー\",\"接続詞\",\"助詞\",\"形容詞\",\"連体詞\",\"感動詞\",\"接頭詞\"]\n",
    "        feature_dict = {}\n",
    "        for typ in word_type:\n",
    "            feature_dict[typ] = []\n",
    "\n",
    "        for line in tqdm(self.data['レビュー内容']):\n",
    "            result = hinshi_dist(line)\n",
    "            for key in result.keys():\n",
    "                feature_dict[key].append(result[key])\n",
    "\n",
    "        for key in feature_dict.keys():\n",
    "            self.features[key] = feature_dict[key]\n",
    "\n",
    "\n",
    "    def get_y(self,cut_off:int):\n",
    "        out = self.data[\"参考になった数\"].to_numpy()\n",
    "        return np.where(out > cut_off, 1, 0)\n",
    "\n",
    "    def to_frame(self, cut_off,include_y=False):\n",
    "        # self.date_feature()\n",
    "        self.word_count() #单词数\n",
    "        self.title_wc() #标题单词数\n",
    "        self.is_title() #是否有标题\n",
    "        self.is_mokuteki() #目的\n",
    "        self.is_ti() #使い道\n",
    "        self.is_hin() #頻度\n",
    "        self.score() #评论分数\n",
    "        self.encode_goods() #商品名\n",
    "        self.encode_users() #用户\n",
    "        self.encode_genre() #类别\n",
    "        self.encode_denpou() #店铺\n",
    "        self.encode_hinshi()\n",
    "        encoded_hindo = self.encode_hindo() #使用频度\n",
    "        encoded_mokuteki = self.encode_mokuteki() #使用目的\n",
    "        encoded_tsu = self.encode_tsu() #使用方法\n",
    "\n",
    "        if include_y:\n",
    "            self.features['y'] = self.get_y(cut_off)\n",
    "\n",
    "        data = pd.DataFrame(self.features)\n",
    "        data = pd.concat([data, encoded_mokuteki,encoded_hindo, encoded_tsu, encoded_tsu], axis = 1)\n",
    "        return data\n",
    "\n"
   ]
  },
  {
   "cell_type": "markdown",
   "metadata": {},
   "source": [
    "### Main"
   ]
  },
  {
   "cell_type": "code",
   "execution_count": 3,
   "metadata": {},
   "outputs": [],
   "source": [
    "import oseti"
   ]
  },
  {
   "cell_type": "code",
   "execution_count": 4,
   "metadata": {},
   "outputs": [
    {
     "name": "stderr",
     "output_type": "stream",
     "text": [
      "100%|██████████| 50000/50000 [00:04<00:00, 11454.65it/s]\n",
      "100%|██████████| 50000/50000 [00:00<00:00, 231808.14it/s]\n",
      "100%|██████████| 50000/50000 [00:36<00:00, 1357.55it/s]\n"
     ]
    }
   ],
   "source": [
    "path = \"/home/hc/[NII-IDR] 楽天市場データ/review/sample/sample_from_raw_5.csv\"\n",
    "extractor = Feature_extractor(path)\n",
    "X = extractor.to_frame(include_y=True,cut_off=5)"
   ]
  },
  {
   "cell_type": "code",
   "execution_count": 9,
   "metadata": {},
   "outputs": [
    {
     "data": {
      "text/plain": [
       "y\n",
       "0    25000\n",
       "1    25000\n",
       "Name: count, dtype: int64"
      ]
     },
     "execution_count": 9,
     "metadata": {},
     "output_type": "execute_result"
    }
   ],
   "source": [
    "X['y'].value_counts()"
   ]
  },
  {
   "cell_type": "code",
   "execution_count": 65,
   "metadata": {},
   "outputs": [
    {
     "data": {
      "text/plain": [
       "'１２本入りを見逃した まあ いろんな味が飲みたかったので大失敗 製品自体は特に問題なし 水でした 笑'"
      ]
     },
     "execution_count": 65,
     "metadata": {},
     "output_type": "execute_result"
    }
   ],
   "source": [
    "a = extractor.data[extractor.data['参考になった数']>5]['レビュー内容'].to_frame().reset_index()\n",
    "a['レビュー内容'][66]"
   ]
  },
  {
   "cell_type": "code",
   "execution_count": 66,
   "metadata": {},
   "outputs": [
    {
     "data": {
      "text/plain": [
       "'ホースとノズルの接続がすんなりと行かず苦労した。１０個ノズルがあるのだが６個でギブアップ、水道に接続するが水圧が強いのか接続部が抜け現在使用していない。'"
      ]
     },
     "execution_count": 66,
     "metadata": {},
     "output_type": "execute_result"
    }
   ],
   "source": [
    "a = extractor.data[extractor.data['参考になった数']<=5]['レビュー内容'].to_frame().reset_index()\n",
    "a['レビュー内容'][4]"
   ]
  },
  {
   "cell_type": "code",
   "execution_count": 30,
   "metadata": {},
   "outputs": [
    {
     "data": {
      "text/plain": [
       "<Axes: xlabel='count', ylabel='score'>"
      ]
     },
     "execution_count": 30,
     "metadata": {},
     "output_type": "execute_result"
    },
    {
     "data": {
      "image/png": "[encoded data removed]",
      "text/plain": [
       "<Figure size 640x480 with 1 Axes>"
      ]
     },
     "metadata": {},
     "output_type": "display_data"
    }
   ],
   "source": [
    "stat = X[X['y']==0]['score'].astype(str)\n",
    "sns.countplot(stat)"
   ]
  },
  {
   "cell_type": "code",
   "execution_count": 31,
   "metadata": {},
   "outputs": [
    {
     "data": {
      "text/plain": [
       "<Axes: xlabel='count', ylabel='score'>"
      ]
     },
     "execution_count": 31,
     "metadata": {},
     "output_type": "execute_result"
    },
    {
     "data": {
      "image/png": "[encoded data removed]",
      "text/plain": [
       "<Figure size 640x480 with 1 Axes>"
      ]
     },
     "metadata": {},
     "output_type": "display_data"
    }
   ],
   "source": [
    "stat = X[X['y']==1]['score'].astype(str)\n",
    "sns.countplot(stat)"
   ]
  }
 ],
 "metadata": {
  "kernelspec": {
   "display_name": "tensor",
   "language": "python",
   "name": "python3"
  },
  "language_info": {
   "codemirror_mode": {
    "name": "ipython",
    "version": 3
   },
   "file_extension": ".py",
   "mimetype": "text/x-python",
   "name": "python",
   "nbconvert_exporter": "python",
   "pygments_lexer": "ipython3",
   "version": "3.9.20"
  }
 },
 "nbformat": 4,
 "nbformat_minor": 2
}
