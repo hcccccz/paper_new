{
 "cells": [
  {
   "cell_type": "code",
   "execution_count": 1,
   "metadata": {},
   "outputs": [],
   "source": [
    "import os\n",
    "import MeCab\n",
    "import ipadic\n",
    "import pandas as pd\n",
    "import gensim"
   ]
  },
  {
   "cell_type": "code",
   "execution_count": 13,
   "metadata": {},
   "outputs": [],
   "source": [
    "stopwords = []\n",
    "for stopword_file in os.listdir(\"stopword\"):\n",
    "    with open(os.path.join(\"stopword\",stopword_file),\"r\") as fp:\n",
    "        stopword = [line.replace(\"\\n\",\"\") for line in fp.readlines()]\n",
    "    stopwords += stopword\n",
    "\n",
    "def lemma(text:list): #1d list after wakati [\"a\",\"b\",\"c\"]\n",
    "    \"日语变成辞书形\"\n",
    "    CHASEN_ARGS = r' -F \"%m\\t%f[7]\\t%f[6]\\t%F-[0,1,2,3]\\t%f[4]\\t%f[5]\\n\"'\n",
    "    CHASEN_ARGS += r' -U \"%m\\t%m\\t%m\\t%F-[0,1,2,3]\\t\\t\\n\"'\n",
    "    wakati = MeCab.Tagger(ipadic.MECAB_ARGS + CHASEN_ARGS)\n",
    "    temp_text = \"\".join(text)\n",
    "    wakati_text = wakati.parse(temp_text).split(\"\\n\")\n",
    "    dic_t = {}\n",
    "    for token in wakati_text:\n",
    "        token = token.split(\"\\t\")\n",
    "        if token[0] != \"\" and token[0] != \"EOS\":\n",
    "            dic_t[token[0]] = token[2]\n",
    "    for idx in range(len(text)):\n",
    "        if text[idx] in dic_t:\n",
    "            text[idx] = dic_t[text[idx]]\n",
    "    return text #list of lemmalization\n",
    "\n",
    "def wakati_tolist(text:list, stopword:list=[]): #list of str\n",
    "    #convert list of str to list of list, removing stopword and \\n， and perform lemmalization\n",
    "\n",
    "    wakati = MeCab.Tagger(\"-Owakati\")\n",
    "    for line_idx in range(len(text)):\n",
    "        line = wakati.parse(text[line_idx])\n",
    "        line = line.replace(\"\\n\", \"\")\n",
    "        line_list = line.split()\n",
    "        line_list = [token for token in line_list if token not in stopword] #1d list\n",
    "        line_list = lemma(line_list)\n",
    "        text[line_idx] = line_list\n",
    "    return text #list of list\n",
    "\n",
    "class Vectorizer():\n",
    "    def __init__(self,data:pd.DataFrame):\n",
    "\n",
    "        gensim.corpora.Dictionary()\n",
    "\n"
   ]
  },
  {
   "cell_type": "code",
   "execution_count": 9,
   "metadata": {},
   "outputs": [],
   "source": [
    "data = pd.read_csv(\"/home/hc/[NII-IDR] 楽天市場データ/sample/sample_from_raw0.csv\")"
   ]
  },
  {
   "cell_type": "code",
   "execution_count": 15,
   "metadata": {},
   "outputs": [],
   "source": [
    "wakati = MeCab.Tagger(\"-Owakati\")\n",
    "text = wakati.parse(data['レビュー内容'][0])"
   ]
  },
  {
   "cell_type": "markdown",
   "metadata": {},
   "source": [
    "### レンマ化前"
   ]
  },
  {
   "cell_type": "code",
   "execution_count": 22,
   "metadata": {},
   "outputs": [
    {
     "data": {
      "text/plain": [
       "'いつものよう届きましたまたなくなったら買います'"
      ]
     },
     "execution_count": 22,
     "metadata": {},
     "output_type": "execute_result"
    }
   ],
   "source": [
    "\"\".join(text.split())"
   ]
  },
  {
   "cell_type": "markdown",
   "metadata": {},
   "source": [
    "### レンマ化後"
   ]
  },
  {
   "cell_type": "code",
   "execution_count": 25,
   "metadata": {},
   "outputs": [
    {
     "data": {
      "text/plain": [
       "'いつものよう届くますたまたなくなるた買うます'"
      ]
     },
     "execution_count": 25,
     "metadata": {},
     "output_type": "execute_result"
    }
   ],
   "source": [
    "\"\".join(lemma(text.split()))"
   ]
  }
 ],
 "metadata": {
  "kernelspec": {
   "display_name": "paper",
   "language": "python",
   "name": "python3"
  },
  "language_info": {
   "codemirror_mode": {
    "name": "ipython",
    "version": 3
   },
   "file_extension": ".py",
   "mimetype": "text/x-python",
   "name": "python",
   "nbconvert_exporter": "python",
   "pygments_lexer": "ipython3",
   "version": "3.11.10"
  }
 },
 "nbformat": 4,
 "nbformat_minor": 2
}
