{
 "cells": [
  {
   "cell_type": "code",
   "execution_count": 1,
   "metadata": {},
   "outputs": [],
   "source": [
    "import os\n",
    "import numpy as np\n",
    "import pandas as pd\n",
    "import csv\n",
    "from tqdm import tqdm\n",
    "import json"
   ]
  },
  {
   "cell_type": "code",
   "execution_count": 3,
   "metadata": {},
   "outputs": [
    {
     "data": {
      "text/html": [
       "<div>\n",
       "<style scoped>\n",
       "    .dataframe tbody tr th:only-of-type {\n",
       "        vertical-align: middle;\n",
       "    }\n",
       "\n",
       "    .dataframe tbody tr th {\n",
       "        vertical-align: top;\n",
       "    }\n",
       "\n",
       "    .dataframe thead th {\n",
       "        text-align: right;\n",
       "    }\n",
       "</style>\n",
       "<table border=\"1\" class=\"dataframe\">\n",
       "  <thead>\n",
       "    <tr style=\"text-align: right;\">\n",
       "      <th></th>\n",
       "      <th>投稿者ID</th>\n",
       "      <th>店舗名</th>\n",
       "      <th>店舗ID</th>\n",
       "      <th>商品名</th>\n",
       "      <th>商品ID</th>\n",
       "      <th>商品ページURL</th>\n",
       "      <th>商品ジャンルID</th>\n",
       "      <th>商品ジャンルIDパス</th>\n",
       "      <th>使い道</th>\n",
       "      <th>目的</th>\n",
       "      <th>頻度</th>\n",
       "      <th>評価ポイント</th>\n",
       "      <th>レビュータイトル</th>\n",
       "      <th>レビュー内容</th>\n",
       "      <th>参考になった数</th>\n",
       "      <th>レビュー登録日時</th>\n",
       "    </tr>\n",
       "  </thead>\n",
       "  <tbody>\n",
       "    <tr>\n",
       "      <th>0</th>\n",
       "      <td>user_3716926</td>\n",
       "      <td>シグマ　コンタクト</td>\n",
       "      <td>266849</td>\n",
       "      <td>2016年ショップオブザイヤージャンル大賞受賞店舗!!【処方箋不要】 【送料無料】 【楽天S...</td>\n",
       "      <td>10000057</td>\n",
       "      <td>https://item.rakuten.co.jp/sigma-contact/m1p-06/</td>\n",
       "      <td>563999</td>\n",
       "      <td>/0/551169/205789/563999</td>\n",
       "      <td>実用品・普段使い</td>\n",
       "      <td>自分用</td>\n",
       "      <td>リピート</td>\n",
       "      <td>5</td>\n",
       "      <td>安くて、早い！</td>\n",
       "      <td>乾燥するとかなりひっつくので、たまに取れなくなりそうなときがありますが、目薬があればなんとか...</td>\n",
       "      <td>0</td>\n",
       "      <td>2015-12-01 00:00</td>\n",
       "    </tr>\n",
       "  </tbody>\n",
       "</table>\n",
       "</div>"
      ],
      "text/plain": [
       "          投稿者ID        店舗名    店舗ID  \\\n",
       "0  user_3716926  シグマ　コンタクト  266849   \n",
       "\n",
       "                                                 商品名      商品ID  \\\n",
       "0  2016年ショップオブザイヤージャンル大賞受賞店舗!!【処方箋不要】 【送料無料】 【楽天S...  10000057   \n",
       "\n",
       "                                           商品ページURL  商品ジャンルID  \\\n",
       "0  https://item.rakuten.co.jp/sigma-contact/m1p-06/    563999   \n",
       "\n",
       "                商品ジャンルIDパス       使い道   目的    頻度  評価ポイント レビュータイトル  \\\n",
       "0  /0/551169/205789/563999  実用品・普段使い  自分用  リピート       5  安くて、早い！   \n",
       "\n",
       "                                              レビュー内容  参考になった数  \\\n",
       "0  乾燥するとかなりひっつくので、たまに取れなくなりそうなときがありますが、目薬があればなんとか...        0   \n",
       "\n",
       "           レビュー登録日時  \n",
       "0  2015-12-01 00:00  "
      ]
     },
     "execution_count": 3,
     "metadata": {},
     "output_type": "execute_result"
    }
   ],
   "source": [
    "path = \"/home/hc/[NII-IDR] 楽天市場データ/review/unzip/\"\n",
    "files = os.listdir(path)\n",
    "file_path = os.path.join(path,files[0])\n",
    "col = ['投稿者ID', '店舗名', '店舗ID', '商品名', '商品ID', '商品ページURL', '商品ジャンルID', '商品ジャンルIDパス', '使い道',\n",
    "                        '目的', '頻度', '評価ポイント', 'レビュータイトル', 'レビュー内容', '参考になった数', 'レビュー登録日時']\n",
    "data = pd.read_csv(file_path,sep='\\t',quoting=csv.QUOTE_NONE,names=col)\n",
    "\n",
    "\n",
    "data[data['投稿者ID'] == 'user_3716926']"
   ]
  },
  {
   "cell_type": "code",
   "execution_count": 2,
   "metadata": {},
   "outputs": [
    {
     "name": "stderr",
     "output_type": "stream",
     "text": [
      "100%|██████████| 60/60 [09:43<00:00,  9.73s/it]\n"
     ]
    }
   ],
   "source": [
    "path = \"/home/hc/[NII-IDR] 楽天市場データ/review/unzip/\"\n",
    "files = os.listdir(path)\n",
    "users_dic = {}\n",
    "for file in tqdm(files):\n",
    "    file_path = os.path.join(path,file)\n",
    "    col = ['投稿者ID', '店舗名', '店舗ID', '商品名', '商品ID', '商品ページURL', '商品ジャンルID', '商品ジャンルIDパス', '使い道',\n",
    "                        '目的', '頻度', '評価ポイント', 'レビュータイトル', 'レビュー内容', '参考になった数', 'レビュー登録日時']\n",
    "    data = pd.read_csv(file_path,sep='\\t',quoting=csv.QUOTE_NONE,names=col)\n",
    "\n",
    "    data.reset_index(inplace=True)\n",
    "    # user_sets = set(data['投稿者ID'].to_list())\n",
    "    user_dic = data['投稿者ID'].value_counts().to_dict()\n",
    "    for key in user_dic:\n",
    "        if key in users_dic:\n",
    "            users_dic[key] += user_dic[key]\n",
    "        else:\n",
    "            users_dic[key] = user_dic[key]\n",
    "\n",
    "with open(\"user_dic.json\",\"w\") as fp:\n",
    "    json.dump(users_dic,fp)"
   ]
  },
  {
   "cell_type": "code",
   "execution_count": 29,
   "metadata": {},
   "outputs": [
    {
     "name": "stderr",
     "output_type": "stream",
     "text": [
      "100%|██████████| 60/60 [09:10<00:00,  9.18s/it]\n"
     ]
    }
   ],
   "source": [
    "path = \"/home/hc/[NII-IDR] 楽天市場データ/review/unzip/\"\n",
    "files = os.listdir(path)\n",
    "shops_dic = {}\n",
    "for file in tqdm(files):\n",
    "    file_path = os.path.join(path,file)\n",
    "    col = ['投稿者ID', '店舗名', '店舗ID', '商品名', '商品ID', '商品ページURL', '商品ジャンルID', '商品ジャンルIDパス', '使い道',\n",
    "                        '目的', '頻度', '評価ポイント', 'レビュータイトル', 'レビュー内容', '参考になった数', 'レビュー登録日時']\n",
    "    data = pd.read_csv(file_path,sep='\\t',quoting=csv.QUOTE_NONE,names=col)\n",
    "\n",
    "    data.reset_index(inplace=True)\n",
    "    # user_sets = set(data['投稿者ID'].to_list())\n",
    "    shop_dic = data['店舗ID'].value_counts().to_dict()\n",
    "    for key in shop_dic:\n",
    "        if key in shops_dic:\n",
    "            shops_dic[key] += shop_dic[key]\n",
    "        else:\n",
    "            shops_dic[key] = shop_dic[key]\n",
    "\n",
    "with open(\"shop_dic.json\",\"w\") as fp:\n",
    "    json.dump(shops_dic,fp)"
   ]
  },
  {
   "cell_type": "code",
   "execution_count": 26,
   "metadata": {},
   "outputs": [
    {
     "name": "stderr",
     "output_type": "stream",
     "text": [
      "100%|██████████| 60/60 [08:13<00:00,  8.23s/it]\n"
     ]
    }
   ],
   "source": [
    "path = \"/home/hc/[NII-IDR] 楽天市場データ/review/unzip/\"\n",
    "files = os.listdir(path)\n",
    "items_dic = {}\n",
    "for file in tqdm(files):\n",
    "    file_path = os.path.join(path,file)\n",
    "    col = ['投稿者ID', '店舗名', '店舗ID', '商品名', '商品ID', '商品ページURL', '商品ジャンルID', '商品ジャンルIDパス', '使い道',\n",
    "                        '目的', '頻度', '評価ポイント', 'レビュータイトル', 'レビュー内容', '参考になった数', 'レビュー登録日時']\n",
    "    data = pd.read_csv(file_path,sep='\\t',quoting=csv.QUOTE_NONE,names=col)\n",
    "\n",
    "    data.reset_index(inplace=True)\n",
    "    # user_sets = set(data['投稿者ID'].to_list())\n",
    "    item_dic = data['商品ID'].value_counts().to_dict()\n",
    "    for key in item_dic:\n",
    "        if key in items_dic:\n",
    "            items_dic[key] += item_dic[key]\n",
    "        else:\n",
    "            items_dic[key] = item_dic[key]\n",
    "\n",
    "with open(\"item_dic.json\",\"w\") as fp:\n",
    "    json.dump(items_dic,fp)"
   ]
  },
  {
   "cell_type": "code",
   "execution_count": 5,
   "metadata": {},
   "outputs": [],
   "source": [
    "import json\n",
    "with open(\"ser.json\",\"w\") as fp:\n",
    "    json.dump({\"a\":10},fp)"
   ]
  },
  {
   "cell_type": "code",
   "execution_count": 7,
   "metadata": {},
   "outputs": [
    {
     "data": {
      "text/plain": [
       "{'a': 10}"
      ]
     },
     "execution_count": 7,
     "metadata": {},
     "output_type": "execute_result"
    }
   ],
   "source": [
    "with open(\"ser.json\",\"r\") as fp:\n",
    "    a = json.load(fp)\n",
    "a"
   ]
  },
  {
   "cell_type": "code",
   "execution_count": 31,
   "metadata": {},
   "outputs": [],
   "source": [
    "data = pd.read_csv(\"/home/hc/[NII-IDR] 楽天市場データ/review/sample/sample_from_raw_5.csv\")\n",
    "data['y'] = np.where(data['参考になった数']>5,1,0)\n"
   ]
  },
  {
   "cell_type": "code",
   "execution_count": 7,
   "metadata": {},
   "outputs": [
    {
     "data": {
      "text/plain": [
       "9890395"
      ]
     },
     "execution_count": 7,
     "metadata": {},
     "output_type": "execute_result"
    }
   ],
   "source": [
    "with open(\"user_dic.json\",\"r\") as fp:\n",
    "    user_dic = json.load(fp)\n",
    "len(user_dic)"
   ]
  },
  {
   "cell_type": "code",
   "execution_count": 8,
   "metadata": {},
   "outputs": [
    {
     "data": {
      "text/plain": [
       "y\n",
       "0    25000\n",
       "1    25000\n",
       "Name: count, dtype: int64"
      ]
     },
     "execution_count": 8,
     "metadata": {},
     "output_type": "execute_result"
    }
   ],
   "source": []
  },
  {
   "cell_type": "code",
   "execution_count": 16,
   "metadata": {},
   "outputs": [],
   "source": [
    "d = np.array([user_c,data['y'].to_list()]).T"
   ]
  },
  {
   "cell_type": "code",
   "execution_count": null,
   "metadata": {},
   "outputs": [],
   "source": []
  },
  {
   "cell_type": "code",
   "execution_count": 23,
   "metadata": {},
   "outputs": [
    {
     "data": {
      "text/plain": [
       "(array([17208.,  4201.,  1092.,   734.,   843.,   314.,     0.,     0.,\n",
       "            0.,   608.]),\n",
       " array([1.00000e+00, 1.53460e+03, 3.06820e+03, 4.60180e+03, 6.13540e+03,\n",
       "        7.66900e+03, 9.20260e+03, 1.07362e+04, 1.22698e+04, 1.38034e+04,\n",
       "        1.53370e+04]),\n",
       " <BarContainer object of 10 artists>)"
      ]
     },
     "execution_count": 23,
     "metadata": {},
     "output_type": "execute_result"
    },
    {
     "data": {
      "image/png": "[encoded data removed]",
      "text/plain": [
       "<Figure size 640x480 with 1 Axes>"
      ]
     },
     "metadata": {},
     "output_type": "display_data"
    }
   ],
   "source": [
    "plt.hist(d[d[:,1] > 0][:,0])"
   ]
  },
  {
   "cell_type": "code",
   "execution_count": 24,
   "metadata": {},
   "outputs": [
    {
     "data": {
      "text/plain": [
       "(array([2.4897e+04, 7.2000e+01, 7.0000e+00, 1.0000e+01, 0.0000e+00,\n",
       "        1.1000e+01, 0.0000e+00, 0.0000e+00, 0.0000e+00, 3.0000e+00]),\n",
       " array([1.00000e+00, 1.53460e+03, 3.06820e+03, 4.60180e+03, 6.13540e+03,\n",
       "        7.66900e+03, 9.20260e+03, 1.07362e+04, 1.22698e+04, 1.38034e+04,\n",
       "        1.53370e+04]),\n",
       " <BarContainer object of 10 artists>)"
      ]
     },
     "execution_count": 24,
     "metadata": {},
     "output_type": "execute_result"
    },
    {
     "data": {
      "image/png": "[encoded data removed]",
      "text/plain": [
       "<Figure size 640x480 with 1 Axes>"
      ]
     },
     "metadata": {},
     "output_type": "display_data"
    }
   ],
   "source": [
    "plt.hist(d[d[:,1] == 0][:,0])\n"
   ]
  },
  {
   "cell_type": "code",
   "execution_count": 49,
   "metadata": {},
   "outputs": [
    {
     "data": {
      "text/plain": [
       "array([[   757,      0],\n",
       "       [ 62086,      0],\n",
       "       [  2556,      0],\n",
       "       ...,\n",
       "       [  7673,      1],\n",
       "       [ 89944,      1],\n",
       "       [697438,      1]])"
      ]
     },
     "execution_count": 49,
     "metadata": {},
     "output_type": "execute_result"
    }
   ],
   "source": [
    "with open(\"shop_dic.json\",\"r\") as fp:\n",
    "    shop_dic = json.load(fp)\n",
    "shop_count = []\n",
    "for line in data['店舗ID']:\n",
    "    shop_count.append(shop_dic[str(line)])\n",
    "d2 = np.array([shop_count,data['y'].to_list()]).T\n",
    "d2"
   ]
  },
  {
   "cell_type": "code",
   "execution_count": 50,
   "metadata": {},
   "outputs": [
    {
     "data": {
      "text/plain": [
       "(array([1.857e+04, 2.167e+03, 1.000e+03, 3.780e+02, 1.700e+01, 0.000e+00,\n",
       "        1.102e+03, 0.000e+00, 0.000e+00, 1.766e+03]),\n",
       " array([2.000000e+00, 7.147860e+04, 1.429552e+05, 2.144318e+05,\n",
       "        2.859084e+05, 3.573850e+05, 4.288616e+05, 5.003382e+05,\n",
       "        5.718148e+05, 6.432914e+05, 7.147680e+05]),\n",
       " <BarContainer object of 10 artists>)"
      ]
     },
     "execution_count": 50,
     "metadata": {},
     "output_type": "execute_result"
    },
    {
     "data": {
      "image/png": "[encoded data removed]",
      "text/plain": [
       "<Figure size 640x480 with 1 Axes>"
      ]
     },
     "metadata": {},
     "output_type": "display_data"
    }
   ],
   "source": [
    "plt.hist(d2[d2[:,1] > 0][:,0])\n"
   ]
  },
  {
   "cell_type": "code",
   "execution_count": 51,
   "metadata": {},
   "outputs": [
    {
     "data": {
      "text/plain": [
       "(array([21814.,  1571.,   642.,   185.,   123.,     0.,   186.,     0.,\n",
       "            0.,   479.]),\n",
       " array([1.000000e+00, 7.147770e+04, 1.429544e+05, 2.144311e+05,\n",
       "        2.859078e+05, 3.573845e+05, 4.288612e+05, 5.003379e+05,\n",
       "        5.718146e+05, 6.432913e+05, 7.147680e+05]),\n",
       " <BarContainer object of 10 artists>)"
      ]
     },
     "execution_count": 51,
     "metadata": {},
     "output_type": "execute_result"
    },
    {
     "data": {
      "image/png": "[encoded data removed]",
      "text/plain": [
       "<Figure size 640x480 with 1 Axes>"
      ]
     },
     "metadata": {},
     "output_type": "display_data"
    }
   ],
   "source": [
    "plt.hist(d2[d2[:,1] == 0][:,0])\n"
   ]
  },
  {
   "cell_type": "code",
   "execution_count": 38,
   "metadata": {},
   "outputs": [
    {
     "data": {
      "text/plain": [
       "array([[101806,      0],\n",
       "       [ 15580,      0],\n",
       "       [100244,      0],\n",
       "       ...,\n",
       "       [ 58034,      1],\n",
       "       [  2258,      1],\n",
       "       [    46,      1]])"
      ]
     },
     "execution_count": 38,
     "metadata": {},
     "output_type": "execute_result"
    }
   ],
   "source": [
    "with open(\"item_dic.json\",\"r\") as fp:\n",
    "    item_dic = json.load(fp)\n",
    "item_count = []\n",
    "for line in data['商品ID']:\n",
    "    item_count.append(item_dic[str(line)])\n",
    "d1 = np.array([item_count,data['y'].to_list()]).T\n",
    "d1"
   ]
  },
  {
   "cell_type": "code",
   "execution_count": 46,
   "metadata": {},
   "outputs": [
    {
     "data": {
      "text/plain": [
       "(array([20745.,  1974.,  1048.,   420.,   420.,   107.,    79.,    72.,\n",
       "            0.,   135.]),\n",
       " array([1.000000e+00, 2.875120e+04, 5.750140e+04, 8.625160e+04,\n",
       "        1.150018e+05, 1.437520e+05, 1.725022e+05, 2.012524e+05,\n",
       "        2.300026e+05, 2.587528e+05, 2.875030e+05]),\n",
       " <BarContainer object of 10 artists>)"
      ]
     },
     "execution_count": 46,
     "metadata": {},
     "output_type": "execute_result"
    },
    {
     "data": {
      "image/png": "[encoded data removed]",
      "text/plain": [
       "<Figure size 640x480 with 1 Axes>"
      ]
     },
     "metadata": {},
     "output_type": "display_data"
    }
   ],
   "source": [
    "import matplotlib.pyplot as plt\n",
    "\n",
    "plt.hist(d1[d1[:,1] > 0][:,0])\n"
   ]
  },
  {
   "cell_type": "code",
   "execution_count": 47,
   "metadata": {},
   "outputs": [
    {
     "data": {
      "text/plain": [
       "(array([20853.,  2041.,   947.,   369.,   444.,   124.,    55.,    79.,\n",
       "            0.,    88.]),\n",
       " array([1.000000e+00, 2.875120e+04, 5.750140e+04, 8.625160e+04,\n",
       "        1.150018e+05, 1.437520e+05, 1.725022e+05, 2.012524e+05,\n",
       "        2.300026e+05, 2.587528e+05, 2.875030e+05]),\n",
       " <BarContainer object of 10 artists>)"
      ]
     },
     "execution_count": 47,
     "metadata": {},
     "output_type": "execute_result"
    },
    {
     "data": {
      "image/png": "[encoded data removed]",
      "text/plain": [
       "<Figure size 640x480 with 1 Axes>"
      ]
     },
     "metadata": {},
     "output_type": "display_data"
    }
   ],
   "source": [
    "plt.hist(d1[d1[:,1] == 0][:,0])\n"
   ]
  }
 ],
 "metadata": {
  "kernelspec": {
   "display_name": "tensor",
   "language": "python",
   "name": "python3"
  },
  "language_info": {
   "codemirror_mode": {
    "name": "ipython",
    "version": 3
   },
   "file_extension": ".py",
   "mimetype": "text/x-python",
   "name": "python",
   "nbconvert_exporter": "python",
   "pygments_lexer": "ipython3",
   "version": "3.9.20"
  }
 },
 "nbformat": 4,
 "nbformat_minor": 2
}
